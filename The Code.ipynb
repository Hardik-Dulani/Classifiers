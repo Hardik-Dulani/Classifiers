{
 "cells": [
  {
   "cell_type": "markdown",
   "id": "2f40b478",
   "metadata": {},
   "source": [
    "# Importing Libraries and modules"
   ]
  },
  {
   "cell_type": "code",
   "execution_count": 1,
   "id": "aa93977b",
   "metadata": {},
   "outputs": [],
   "source": [
    "import glob\n",
    "import matplotlib.pyplot as plt\n",
    "import numpy as np\n",
    "import pandas as pd\n",
    "import PIL\n",
    "from PIL import Image\n",
    "from skimage import io\n",
    "from skimage import color\n",
    "from sklearn.model_selection import train_test_split as tts\n",
    "from sklearn.metrics import classification_report\n",
    "from sklearn.ensemble import RandomForestClassifier\n",
    "import warnings\n",
    "warnings.filterwarnings('ignore')"
   ]
  },
  {
   "cell_type": "markdown",
   "id": "d8f7fc21",
   "metadata": {},
   "source": [
    "## Making DataBase for cats"
   ]
  },
  {
   "cell_type": "code",
   "execution_count": 2,
   "id": "f520de3d",
   "metadata": {},
   "outputs": [],
   "source": [
    "file=('C:/Users/hardi/Jupyter Notebook/Machine Learning/Projects/CatDogClassifier/cats/*')\n",
    "\n",
    "cat_list=glob.glob(file)\n",
    "\n",
    "cat_list_final=[]\n",
    "for file in cat_list:\n",
    "    try:\n",
    "        img = Image.open(file)\n",
    "        img = img.resize((200,200))\n",
    "        cat_list_final.append(img)\n",
    "    except:\n",
    "        pass\n",
    "        \n",
    "    \n",
    "    \n",
    "cat_data=pd.DataFrame()\n",
    "for i in range(len(cat_list_final)):\n",
    "    try:\n",
    "        imgArray=np.array(cat_list_final[i])\n",
    "        imgArray=imgArray.flatten()\n",
    "        cat_data[-1]=imgArray\n",
    "        cat_data.columns = range(cat_data.columns.size)\n",
    "    except:\n",
    "        pass\n",
    "cat_data=cat_data.T\n",
    "cat_data['Label']=np.zeros(cat_data.shape[0])"
   ]
  },
  {
   "cell_type": "markdown",
   "id": "91204f2c",
   "metadata": {},
   "source": [
    "## Making DataBase for Dogs"
   ]
  },
  {
   "cell_type": "code",
   "execution_count": 3,
   "id": "f2ff8257",
   "metadata": {},
   "outputs": [],
   "source": [
    "file=('C:/Users/hardi/Jupyter Notebook/Machine Learning/Projects/CatDogClassifier/dogs/*')\n",
    "\n",
    "dog_list=glob.glob(file)\n",
    "\n",
    "dog_list_final=[]\n",
    "for file in dog_list:\n",
    "    try:\n",
    "        img = Image.open(file)\n",
    "        img = img.resize((200,200))\n",
    "        dog_list_final.append(img)\n",
    "    except:\n",
    "        pass\n",
    "    \n",
    "    \n",
    "dog_data=pd.DataFrame()\n",
    "for i in range(len(dog_list_final)):\n",
    "    try:\n",
    "        imgArray=np.array(dog_list_final[i])\n",
    "        imgArray=imgArray.flatten()\n",
    "        dog_data[-1]=imgArray\n",
    "        dog_data.columns = range(dog_data.columns.size)\n",
    "    except:\n",
    "        pass\n",
    "dog_data=dog_data.T\n",
    "dog_data['Label']=np.zeros(dog_data.shape[0])+1"
   ]
  },
  {
   "cell_type": "markdown",
   "id": "eb899cf3",
   "metadata": {},
   "source": [
    "## Merging both databases"
   ]
  },
  {
   "cell_type": "code",
   "execution_count": 4,
   "id": "9fd3eec4",
   "metadata": {},
   "outputs": [],
   "source": [
    "DataBase = pd.concat([cat_data,dog_data])"
   ]
  },
  {
   "cell_type": "markdown",
   "id": "93f712c9",
   "metadata": {},
   "source": [
    "# Data Preprocessing and Model Training"
   ]
  },
  {
   "cell_type": "code",
   "execution_count": 5,
   "id": "e606dfd0",
   "metadata": {},
   "outputs": [],
   "source": [
    "features=DataBase.drop(['Label'],axis=1).copy()\n",
    "label=DataBase['Label'].copy()"
   ]
  },
  {
   "cell_type": "code",
   "execution_count": 6,
   "id": "6d2016ab",
   "metadata": {},
   "outputs": [],
   "source": [
    "trainFeatures,testFeatures,trainLabel,testLabel=tts(features,label,test_size=0.1,random_state=2)"
   ]
  },
  {
   "cell_type": "code",
   "execution_count": 11,
   "id": "48f98601",
   "metadata": {},
   "outputs": [
    {
     "name": "stdout",
     "output_type": "stream",
     "text": [
      "The score is 0.84\n"
     ]
    }
   ],
   "source": [
    "rfc2=RandomForestClassifier(n_estimators=150)\n",
    "rfc2.fit(trainFeatures,trainLabel)\n",
    "rfc2Pred=rfc2.predict(testFeatures)\n",
    "score=rfc2.score(testFeatures,testLabel)\n",
    "print('The score is {:.2f}%'.format(score*100))"
   ]
  },
  {
   "cell_type": "code",
   "execution_count": 8,
   "id": "5cf152e1",
   "metadata": {
    "scrolled": true
   },
   "outputs": [
    {
     "name": "stdout",
     "output_type": "stream",
     "text": [
      "              precision    recall  f1-score   support\n",
      "\n",
      "         0.0       0.83      0.84      0.84       232\n",
      "         1.0       0.83      0.81      0.82       217\n",
      "\n",
      "    accuracy                           0.83       449\n",
      "   macro avg       0.83      0.83      0.83       449\n",
      "weighted avg       0.83      0.83      0.83       449\n",
      "\n"
     ]
    }
   ],
   "source": [
    "print(classification_report(testLabel,rfc2Pred))"
   ]
  },
  {
   "cell_type": "markdown",
   "id": "0048bc60",
   "metadata": {},
   "source": [
    "## Predictions"
   ]
  },
  {
   "cell_type": "code",
   "execution_count": 9,
   "id": "98ae28fa",
   "metadata": {},
   "outputs": [],
   "source": [
    "def ProcessImage(imgPath):\n",
    "    img = Image.open(imgPath)\n",
    "    img = img.resize((200,200))\n",
    "    imgArray=np.array(img)\n",
    "    imgArray=imgArray.reshape(1,-1)\n",
    "    return imgArray"
   ]
  },
  {
   "cell_type": "code",
   "execution_count": 10,
   "id": "df16ca10",
   "metadata": {},
   "outputs": [
    {
     "name": "stdout",
     "output_type": "stream",
     "text": [
      "Its a photo of cat\n",
      "Its a dog\n",
      "Its a dog\n",
      "Its a photo of cat\n",
      "Its a dog\n"
     ]
    }
   ],
   "source": [
    "for i in range(1,6):\n",
    "    result=int(rfc2.predict(ProcessImage(f'C:/Users/hardi/Jupyter Notebook/Machine Learning/Projects/CatDogClassifier/sample{i}.jpg')))\n",
    "    if result==0:\n",
    "        print('Its a photo of cat')\n",
    "    else:\n",
    "        print('Its a dog')"
   ]
  }
 ],
 "metadata": {
  "kernelspec": {
   "display_name": "Python 3 (ipykernel)",
   "language": "python",
   "name": "python3"
  },
  "language_info": {
   "codemirror_mode": {
    "name": "ipython",
    "version": 3
   },
   "file_extension": ".py",
   "mimetype": "text/x-python",
   "name": "python",
   "nbconvert_exporter": "python",
   "pygments_lexer": "ipython3",
   "version": "3.9.7"
  }
 },
 "nbformat": 4,
 "nbformat_minor": 5
}
